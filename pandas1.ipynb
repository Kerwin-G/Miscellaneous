{
  "nbformat": 4,
  "nbformat_minor": 0,
  "metadata": {
    "colab": {
      "name": "pandas1.ipynb",
      "provenance": [],
      "collapsed_sections": [],
      "authorship_tag": "ABX9TyNzZ01NTj8wCLiJ691RKylg",
      "include_colab_link": true
    },
    "kernelspec": {
      "name": "python3",
      "display_name": "Python 3"
    },
    "language_info": {
      "name": "python"
    }
  },
  "cells": [
    {
      "cell_type": "markdown",
      "metadata": {
        "id": "view-in-github",
        "colab_type": "text"
      },
      "source": [
        "<a href=\"https://colab.research.google.com/github/Kerwin-G/Miscellaneous/blob/main/pandas1.ipynb\" target=\"_parent\"><img src=\"https://colab.research.google.com/assets/colab-badge.svg\" alt=\"Open In Colab\"/></a>"
      ]
    },
    {
      "cell_type": "code",
      "metadata": {
        "id": "BHo46jk9g4XU"
      },
      "source": [
        "import numpy as np\n",
        "import pandas as pd"
      ],
      "execution_count": null,
      "outputs": []
    },
    {
      "cell_type": "markdown",
      "metadata": {
        "id": "7GzMi5UZz6_K"
      },
      "source": [
        "Q1"
      ]
    },
    {
      "cell_type": "code",
      "metadata": {
        "colab": {
          "base_uri": "https://localhost:8080/"
        },
        "id": "-ExpMnyulyhV",
        "outputId": "b0857aec-e4e6-4882-f152-33f129041764"
      },
      "source": [
        "Customer1={\"FirstName\": 'John', \"LastName\": 'Smith',\"Product\": 'Lawnmower',\"DatePurch\":'2018-03-21',\"Price\": 139,\"Online\": 'Yes'}\n",
        "pd.Series(Customer1, index=[\"FirstName\",\"LastName\",\"Product\",\"DatePurch\",\"Price\",\"Online\"])"
      ],
      "execution_count": null,
      "outputs": [
        {
          "output_type": "execute_result",
          "data": {
            "text/plain": [
              "FirstName          John\n",
              "LastName          Smith\n",
              "Product       Lawnmower\n",
              "DatePurch    2018-03-21\n",
              "Price               139\n",
              "Online              Yes\n",
              "dtype: object"
            ]
          },
          "metadata": {
            "tags": []
          },
          "execution_count": 46
        }
      ]
    },
    {
      "cell_type": "markdown",
      "metadata": {
        "id": "H85n_wHFz9MI"
      },
      "source": [
        "Q2/Q3:"
      ]
    },
    {
      "cell_type": "code",
      "metadata": {
        "colab": {
          "base_uri": "https://localhost:8080/"
        },
        "id": "FNGVKG1Dqx_8",
        "outputId": "eaa03cae-5ec7-4614-830e-fe234d9b3c0b"
      },
      "source": [
        "data= np.array(['John','Smith','Lawnmower','2018-08-21','139','Yes'])\n",
        "s= pd.Series(data, index=['FirstName','LastName','Product','DatePurch','Price','Online'])\n",
        "print(s)\n",
        "print(\"\")\n",
        "print(s.get('Price'))\n",
        "print(\"\")\n",
        "s.loc[['Product','DatePurch','Online']]"
      ],
      "execution_count": null,
      "outputs": [
        {
          "output_type": "stream",
          "text": [
            "FirstName          John\n",
            "LastName          Smith\n",
            "Product       Lawnmower\n",
            "DatePurch    2018-08-21\n",
            "Price               139\n",
            "Online              Yes\n",
            "dtype: object\n",
            "\n",
            "139\n",
            "\n"
          ],
          "name": "stdout"
        },
        {
          "output_type": "execute_result",
          "data": {
            "text/plain": [
              "Product       Lawnmower\n",
              "DatePurch    2018-08-21\n",
              "Online              Yes\n",
              "dtype: object"
            ]
          },
          "metadata": {
            "tags": []
          },
          "execution_count": 40
        }
      ]
    },
    {
      "cell_type": "code",
      "metadata": {
        "colab": {
          "base_uri": "https://localhost:8080/",
          "height": 226
        },
        "id": "Hihdff1T0nkE",
        "outputId": "f8f5250d-b718-4100-a92d-dd678abb4dab"
      },
      "source": [
        "data1= {\n",
        "    \"Customer1\":['John','Smith','Lawnmower','2018-03-21',139,'Yes'],\n",
        "    \"Customer2\":['Matilda','Shumann','dining table','2019-05-10',245.95,'No']}\n",
        "pd.DataFrame(data1, index=['FirstName','LastName','Product','DatePurch','Price','Online'])"
      ],
      "execution_count": null,
      "outputs": [
        {
          "output_type": "execute_result",
          "data": {
            "text/html": [
              "<div>\n",
              "<style scoped>\n",
              "    .dataframe tbody tr th:only-of-type {\n",
              "        vertical-align: middle;\n",
              "    }\n",
              "\n",
              "    .dataframe tbody tr th {\n",
              "        vertical-align: top;\n",
              "    }\n",
              "\n",
              "    .dataframe thead th {\n",
              "        text-align: right;\n",
              "    }\n",
              "</style>\n",
              "<table border=\"1\" class=\"dataframe\">\n",
              "  <thead>\n",
              "    <tr style=\"text-align: right;\">\n",
              "      <th></th>\n",
              "      <th>Customer1</th>\n",
              "      <th>Customer2</th>\n",
              "    </tr>\n",
              "  </thead>\n",
              "  <tbody>\n",
              "    <tr>\n",
              "      <th>FirstName</th>\n",
              "      <td>John</td>\n",
              "      <td>Matilda</td>\n",
              "    </tr>\n",
              "    <tr>\n",
              "      <th>LastName</th>\n",
              "      <td>Smith</td>\n",
              "      <td>Shumann</td>\n",
              "    </tr>\n",
              "    <tr>\n",
              "      <th>Product</th>\n",
              "      <td>Lawnmower</td>\n",
              "      <td>dining table</td>\n",
              "    </tr>\n",
              "    <tr>\n",
              "      <th>DatePurch</th>\n",
              "      <td>2018-03-21</td>\n",
              "      <td>2019-05-10</td>\n",
              "    </tr>\n",
              "    <tr>\n",
              "      <th>Price</th>\n",
              "      <td>139</td>\n",
              "      <td>245.95</td>\n",
              "    </tr>\n",
              "    <tr>\n",
              "      <th>Online</th>\n",
              "      <td>Yes</td>\n",
              "      <td>No</td>\n",
              "    </tr>\n",
              "  </tbody>\n",
              "</table>\n",
              "</div>"
            ],
            "text/plain": [
              "            Customer1     Customer2\n",
              "FirstName        John       Matilda\n",
              "LastName        Smith       Shumann\n",
              "Product     Lawnmower  dining table\n",
              "DatePurch  2018-03-21    2019-05-10\n",
              "Price             139        245.95\n",
              "Online            Yes            No"
            ]
          },
          "metadata": {
            "tags": []
          },
          "execution_count": 83
        }
      ]
    },
    {
      "cell_type": "code",
      "metadata": {
        "colab": {
          "base_uri": "https://localhost:8080/",
          "height": 107
        },
        "id": "x54tfQzyLsbB",
        "outputId": "d14c9b6e-c074-4eb3-8030-e286d4836d38"
      },
      "source": [
        "Data=({\"FirstName\": 'John', \"LastName\":'Smith',\"Product\": 'Lawnmower',\"DatePurch\":'2018-03-21',\"Price\": 139,\"Online\":'Yes'},\n",
        "      {\"FirstName\": 'Matilda', \"LastName\":'Shumann',\"Product\": 'dining table',\"DatePurch\":'2019-05-10',\"Price\": 245.95,\"Online\":'No'})\n",
        "pd.DataFrame(Data,index=[\"Customer1\",\"Customer2\"])\n",
        "\n"
      ],
      "execution_count": null,
      "outputs": [
        {
          "output_type": "execute_result",
          "data": {
            "text/html": [
              "<div>\n",
              "<style scoped>\n",
              "    .dataframe tbody tr th:only-of-type {\n",
              "        vertical-align: middle;\n",
              "    }\n",
              "\n",
              "    .dataframe tbody tr th {\n",
              "        vertical-align: top;\n",
              "    }\n",
              "\n",
              "    .dataframe thead th {\n",
              "        text-align: right;\n",
              "    }\n",
              "</style>\n",
              "<table border=\"1\" class=\"dataframe\">\n",
              "  <thead>\n",
              "    <tr style=\"text-align: right;\">\n",
              "      <th></th>\n",
              "      <th>FirstName</th>\n",
              "      <th>LastName</th>\n",
              "      <th>Product</th>\n",
              "      <th>DatePurch</th>\n",
              "      <th>Price</th>\n",
              "      <th>Online</th>\n",
              "    </tr>\n",
              "  </thead>\n",
              "  <tbody>\n",
              "    <tr>\n",
              "      <th>Customer1</th>\n",
              "      <td>John</td>\n",
              "      <td>Smith</td>\n",
              "      <td>Lawnmower</td>\n",
              "      <td>2018-03-21</td>\n",
              "      <td>139.00</td>\n",
              "      <td>Yes</td>\n",
              "    </tr>\n",
              "    <tr>\n",
              "      <th>Customer2</th>\n",
              "      <td>Matilda</td>\n",
              "      <td>Shumann</td>\n",
              "      <td>dining table</td>\n",
              "      <td>2019-05-10</td>\n",
              "      <td>245.95</td>\n",
              "      <td>No</td>\n",
              "    </tr>\n",
              "  </tbody>\n",
              "</table>\n",
              "</div>"
            ],
            "text/plain": [
              "          FirstName LastName       Product   DatePurch   Price Online\n",
              "Customer1      John    Smith     Lawnmower  2018-03-21  139.00    Yes\n",
              "Customer2   Matilda  Shumann  dining table  2019-05-10  245.95     No"
            ]
          },
          "metadata": {
            "tags": []
          },
          "execution_count": 97
        }
      ]
    },
    {
      "cell_type": "code",
      "metadata": {
        "colab": {
          "base_uri": "https://localhost:8080/"
        },
        "id": "ilpnpI17OdlG",
        "outputId": "db61a863-10d9-4fc5-e483-44ca7b16e000"
      },
      "source": [
        "dat= {\n",
        "    \"Customer1\":pd.Series(['John','Smith','Lawnmower','2018-03-21',139,'Yes'],index=[\"FirstName\",\"LastName\",\"Product\",\"DatePurch\",\"Price\",\"Online\"]),\n",
        "    \"Customer2\":pd.Series(['Matilda','Shumann','dining table','2019-05-10',245.95,'No'],index=[\"FirstName\",\"LastName\",\"Product\",\"DatePurch\",\"Price\",\"Online\"]) \n",
        "}\n",
        "dff=pd.DataFrame(dat)\n",
        "print(dff)\n",
        "print(\" \")\n",
        "print(dff.iloc[2:4]) #Product and Date\n",
        "print(\"\")\n",
        "print(dff.loc[[\"FirstName\",\"LastName\",\"Online\"], : ])\n",
        "print(\"\")\n",
        "dff.loc[['FirstName','DatePurch'],\"Customer2\"]\n",
        "\n"
      ],
      "execution_count": null,
      "outputs": [
        {
          "output_type": "stream",
          "text": [
            "            Customer1     Customer2\n",
            "FirstName        John       Matilda\n",
            "LastName        Smith       Shumann\n",
            "Product     Lawnmower  dining table\n",
            "DatePurch  2018-03-21    2019-05-10\n",
            "Price             139        245.95\n",
            "Online            Yes            No\n",
            " \n",
            "            Customer1     Customer2\n",
            "Product     Lawnmower  dining table\n",
            "DatePurch  2018-03-21    2019-05-10\n",
            "\n",
            "          Customer1 Customer2\n",
            "FirstName      John   Matilda\n",
            "LastName      Smith   Shumann\n",
            "Online          Yes        No\n",
            "\n"
          ],
          "name": "stdout"
        },
        {
          "output_type": "execute_result",
          "data": {
            "text/plain": [
              "FirstName       Matilda\n",
              "DatePurch    2019-05-10\n",
              "Name: Customer2, dtype: object"
            ]
          },
          "metadata": {
            "tags": []
          },
          "execution_count": 155
        }
      ]
    },
    {
      "cell_type": "code",
      "metadata": {
        "colab": {
          "base_uri": "https://localhost:8080/",
          "height": 77
        },
        "id": "F0rty4p5xi2_",
        "outputId": "9ae0e7a8-fb33-4684-b558-3807b6ec0e27"
      },
      "source": [
        "d = {'a': [1, 2, 3, 4],'b': [4, 3, 2, 1]}\n",
        "dd=pd.DataFrame(d,index=['first','second','third','fourth'])\n",
        "dd.loc[['first'],'a':'b']\n"
      ],
      "execution_count": null,
      "outputs": [
        {
          "output_type": "execute_result",
          "data": {
            "text/html": [
              "<div>\n",
              "<style scoped>\n",
              "    .dataframe tbody tr th:only-of-type {\n",
              "        vertical-align: middle;\n",
              "    }\n",
              "\n",
              "    .dataframe tbody tr th {\n",
              "        vertical-align: top;\n",
              "    }\n",
              "\n",
              "    .dataframe thead th {\n",
              "        text-align: right;\n",
              "    }\n",
              "</style>\n",
              "<table border=\"1\" class=\"dataframe\">\n",
              "  <thead>\n",
              "    <tr style=\"text-align: right;\">\n",
              "      <th></th>\n",
              "      <th>a</th>\n",
              "      <th>b</th>\n",
              "    </tr>\n",
              "  </thead>\n",
              "  <tbody>\n",
              "    <tr>\n",
              "      <th>first</th>\n",
              "      <td>1</td>\n",
              "      <td>4</td>\n",
              "    </tr>\n",
              "  </tbody>\n",
              "</table>\n",
              "</div>"
            ],
            "text/plain": [
              "       a  b\n",
              "first  1  4"
            ]
          },
          "metadata": {
            "tags": []
          },
          "execution_count": 176
        }
      ]
    },
    {
      "cell_type": "code",
      "metadata": {
        "colab": {
          "base_uri": "https://localhost:8080/"
        },
        "id": "Lh1gWLPRZeli",
        "outputId": "4620a3cb-2467-4201-b7ac-9506219ad1ae"
      },
      "source": [
        "data=pd.DataFrame(np.random.rand(10,5))\n",
        "data.rename(columns={0:'A',1:'B',2:'C',3:'D',4:'E'}, inplace=True)\n",
        "print(data)\n",
        "print(\"\")\n",
        "print(data.mean(axis=1)) #row mean\n",
        "print(\"\")\n",
        "print(data.mean()) #column mean"
      ],
      "execution_count": null,
      "outputs": [
        {
          "output_type": "stream",
          "text": [
            "          A         B         C         D         E\n",
            "0  0.584707  0.522020  0.723771  0.494234  0.955171\n",
            "1  0.114893  0.633782  0.146341  0.653972  0.844794\n",
            "2  0.343192  0.091213  0.199102  0.525347  0.368854\n",
            "3  0.716030  0.992999  0.691404  0.110056  0.249540\n",
            "4  0.204908  0.296363  0.760987  0.079203  0.709275\n",
            "5  0.005691  0.144619  0.367628  0.372542  0.267424\n",
            "6  0.428540  0.290663  0.153114  0.296218  0.668612\n",
            "7  0.451293  0.996648  0.918307  0.210644  0.943262\n",
            "8  0.223671  0.466651  0.750209  0.550541  0.142475\n",
            "9  0.524699  0.397397  0.225734  0.670338  0.071312\n",
            "\n",
            "0    0.655981\n",
            "1    0.478756\n",
            "2    0.305542\n",
            "3    0.552006\n",
            "4    0.410147\n",
            "5    0.231581\n",
            "6    0.367430\n",
            "7    0.704031\n",
            "8    0.426709\n",
            "9    0.377896\n",
            "dtype: float64\n",
            "\n",
            "A    0.359762\n",
            "B    0.483236\n",
            "C    0.493659\n",
            "D    0.396309\n",
            "E    0.522072\n",
            "dtype: float64\n"
          ],
          "name": "stdout"
        }
      ]
    },
    {
      "cell_type": "markdown",
      "metadata": {
        "id": "Cr6pJ2b8RTgI"
      },
      "source": [
        "10A.)  in the dictioary used for defining a dataframe the key is the column with the values being a list of values for each row.\n",
        "in the above dictionaries the key and values are listed in pairs not specifically a column with a list of row values."
      ]
    },
    {
      "cell_type": "code",
      "metadata": {
        "colab": {
          "base_uri": "https://localhost:8080/"
        },
        "id": "mECfF018SZ0L",
        "outputId": "8b558c0b-2000-448a-e0c2-52d20721f4bf"
      },
      "source": [
        "# Number of sales made by an employee\n",
        "sales = {'Tony': 103,\n",
        "'Sally': 202,\n",
        "'Randy': 380,\n",
        "'Ellen': 101,\n",
        "'Fred': 82\n",
        "}\n",
        "# Employees and the region they work in\n",
        "region = {'Tony': 'West',\n",
        "'Sally': 'South',\n",
        "'Carl': 'West',\n",
        "'Archie': 'North',\n",
        "'Randy': 'East',\n",
        "'Ellen': 'South',\n",
        "'Fred': np.nan,\n",
        "'Mo': 'East',\n",
        "'HanWei': np.nan,\n",
        "}\n",
        "sales_df = pd.DataFrame.from_dict(sales, orient='index', columns=['sales'])\n",
        "region_df = pd.DataFrame.from_dict(region, orient='index', columns=['region'])\n",
        "total_df = region_df.join(sales_df, how='left')\n",
        "\n",
        "print(sales_df)\n",
        "print(\"\")\n",
        "print(region_df)\n",
        "print(\"\")\n",
        "print(total_df)\n",
        "by_regiondf= pd.merge(total_df,sales_df)\n",
        "print(by_regiondf)\n",
        "group=by_regiondf.groupby([\"region\"])\n",
        "print(group)"
      ],
      "execution_count": null,
      "outputs": [
        {
          "output_type": "stream",
          "text": [
            "       sales\n",
            "Tony     103\n",
            "Sally    202\n",
            "Randy    380\n",
            "Ellen    101\n",
            "Fred      82\n",
            "\n",
            "       region\n",
            "Tony     West\n",
            "Sally   South\n",
            "Carl     West\n",
            "Archie  North\n",
            "Randy    East\n",
            "Ellen   South\n",
            "Fred      NaN\n",
            "Mo       East\n",
            "HanWei    NaN\n",
            "\n",
            "       region  sales\n",
            "Tony     West  103.0\n",
            "Sally   South  202.0\n",
            "Carl     West    NaN\n",
            "Archie  North    NaN\n",
            "Randy    East  380.0\n",
            "Ellen   South  101.0\n",
            "Fred      NaN   82.0\n",
            "Mo       East    NaN\n",
            "HanWei    NaN    NaN\n",
            "  region  sales\n",
            "0   West  103.0\n",
            "1  South  202.0\n",
            "2   East  380.0\n",
            "3  South  101.0\n",
            "4    NaN   82.0\n",
            "<pandas.core.groupby.generic.DataFrameGroupBy object at 0x7f78651edb50>\n"
          ],
          "name": "stdout"
        }
      ]
    },
    {
      "cell_type": "code",
      "metadata": {
        "id": "UooRw08hSrxN"
      },
      "source": [
        ""
      ],
      "execution_count": null,
      "outputs": []
    }
  ]
}