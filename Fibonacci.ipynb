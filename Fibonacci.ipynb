{
  "nbformat": 4,
  "nbformat_minor": 0,
  "metadata": {
    "colab": {
      "name": "Fibonacci.ipynb",
      "provenance": [],
      "collapsed_sections": [],
      "authorship_tag": "ABX9TyP66g6nxTEBaxieQwQExR8H",
      "include_colab_link": true
    },
    "kernelspec": {
      "name": "python3",
      "display_name": "Python 3"
    },
    "language_info": {
      "name": "python"
    }
  },
  "cells": [
    {
      "cell_type": "markdown",
      "metadata": {
        "id": "view-in-github",
        "colab_type": "text"
      },
      "source": [
        "<a href=\"https://colab.research.google.com/github/Kerwin-G/Miscellaneous/blob/main/Fibonacci.ipynb\" target=\"_parent\"><img src=\"https://colab.research.google.com/assets/colab-badge.svg\" alt=\"Open In Colab\"/></a>"
      ]
    },
    {
      "cell_type": "markdown",
      "metadata": {
        "id": "gZ_bjgRfnVog"
      },
      "source": [
        "**Fibonacci sequence shows number of terms after selection \n",
        "displays nth term in list**"
      ]
    },
    {
      "cell_type": "code",
      "metadata": {
        "colab": {
          "base_uri": "https://localhost:8080/"
        },
        "id": "cRk7I8_8lvqN",
        "outputId": "a52eb64f-8b48-4df1-d5db-f3a45c1e4eec"
      },
      "source": [
        "x=int(input(\"insert No. of terms you would like to display \"))\n",
        "print(\"\")\n",
        "x=x-2\n",
        "list=[0,1]\n",
        "a=[]\n",
        "for i in range(x):\n",
        "  n=list[-1]+list[-2]\n",
        "  list.append(n)\n",
        "  b=list[-1]/list[-2]\n",
        "  a.append(b)\n",
        "print(list) \n",
        "print(\" \")\n",
        "print(a)\n",
        "print(\"\")\n",
        "od=[]\n",
        "for z in range(len(list)):\n",
        "  if list[z] % 2 != 0:\n",
        "    od.append(list[z])\n",
        "print(od)\n",
        "nth=int(input(\"enter term nth term of interest \"))\n",
        "if nth <= len(list):\n",
        "  print(list[nth-1])\n",
        "else:\n",
        "  print(\"error: list too short\") \n"
      ],
      "execution_count": null,
      "outputs": [
        {
          "output_type": "stream",
          "text": [
            "insert No. of terms you would like to display 5\n",
            "\n",
            "[0, 1, 1, 2, 3]\n",
            " \n",
            "[1.0, 2.0, 1.5]\n",
            "\n",
            "[1, 1, 3]\n",
            "enter term nth term of interest 3\n",
            "1\n"
          ],
          "name": "stdout"
        }
      ]
    }
  ]
}